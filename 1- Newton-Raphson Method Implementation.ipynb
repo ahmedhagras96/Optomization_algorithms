{
 "cells": [
  {
   "cell_type": "code",
   "execution_count": 8,
   "metadata": {},
   "outputs": [],
   "source": [
    "import sympy as sym\n",
    "from sympy import Symbol\n",
    "\n",
    "def newton(f_x,x_start):\n",
    "    '''These function using for solving equation Newton's method \n",
    "    which produces successively better approximations to the roots\n",
    "    of a real-valued function.We useing sympy library to difine functions\n",
    "    and to get the drivative of function also to make the substitution with\n",
    "    the requird value'''\n",
    "    \n",
    "    #define x as symbol using symbol class from sympy library\n",
    "    x= Symbol('x')\n",
    "\n",
    "    #Getting the drivative of function that send as argumant\n",
    "    f_diff1 = sym.diff(f_x,x)\n",
    "    \n",
    "    #Getting the subistitution in start point that specified as argument in these function in f_x that represent \n",
    "    #the function and store the result in f_x_res\n",
    "    f_x_res = f_x.subs(x, x_start)\n",
    "    \n",
    "    #Getting the subistitution in start point that specified as argument in these function in f_diff1 that represent \n",
    "    #the differentiation of f_x function and store the result in f_diff1_res\n",
    "    f_diff1_res = f_diff1.subs(x, x_start)\n",
    "    \n",
    "    #store first result of x by applying Newton method\n",
    "    x_new = x_start-(f_x_res/f_diff1_res)\n",
    "    \n",
    "    #make while loop that itirate on x_new values until f_x_res reach to the too little value that approximate to 0\n",
    "    while f_x_res >.00001 or f_x_res < -.00001:\n",
    "        f_x_res = f_x.subs(x,x_new)\n",
    "\n",
    "        f_diff1_res = f_diff1.subs(x, x_new)\n",
    "        \n",
    "        x_new = x_new-(f_x_res/f_diff1_res)\n",
    "\n",
    "    #Finally return x_new that achive these little value of f_x_res\n",
    "    return x_new"
   ]
  },
  {
   "cell_type": "code",
   "execution_count": 9,
   "metadata": {},
   "outputs": [
    {
     "data": {
      "text/plain": [
       "1.618033988749989"
      ]
     },
     "execution_count": 9,
     "metadata": {},
     "output_type": "execute_result"
    }
   ],
   "source": [
    "# Quation a\n",
    "x= Symbol('x')\n",
    "y=x**2-x-1\n",
    "float(newton(y,1))"
   ]
  },
  {
   "cell_type": "code",
   "execution_count": 10,
   "metadata": {},
   "outputs": [
    {
     "data": {
      "text/plain": [
       "5.685779526089631"
      ]
     },
     "execution_count": 10,
     "metadata": {},
     "output_type": "execute_result"
    }
   ],
   "source": [
    "# Quation b\n",
    "x= Symbol('x')\n",
    "y=x**3-7*(x)**2+8*x-3\n",
    "float(newton(y,5))"
   ]
  },
  {
   "cell_type": "code",
   "execution_count": 11,
   "metadata": {},
   "outputs": [
    {
     "data": {
      "text/plain": [
       "0.7390851332151607"
      ]
     },
     "execution_count": 11,
     "metadata": {},
     "output_type": "execute_result"
    }
   ],
   "source": [
    "# Quation c\n",
    "x= Symbol('x')\n",
    "y=x*sym.cos(x)-x**2\n",
    "float(newton(y,1.0))"
   ]
  }
 ],
 "metadata": {
  "kernelspec": {
   "display_name": "Python 3 (ipykernel)",
   "language": "python",
   "name": "python3"
  },
  "language_info": {
   "codemirror_mode": {
    "name": "ipython",
    "version": 3
   },
   "file_extension": ".py",
   "mimetype": "text/x-python",
   "name": "python",
   "nbconvert_exporter": "python",
   "pygments_lexer": "ipython3",
   "version": "3.9.7"
  }
 },
 "nbformat": 4,
 "nbformat_minor": 4
}
